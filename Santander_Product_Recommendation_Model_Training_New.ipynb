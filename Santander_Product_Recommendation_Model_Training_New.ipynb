{
  "cells": [
    {
      "cell_type": "code",
      "execution_count": null,
      "metadata": {
        "id": "bXLZ510C6L9S"
      },
      "outputs": [],
      "source": [
        "import pandas as pd\n",
        "import numpy as np\n",
        "from datetime import datetime \n",
        "from scipy.sparse import hstack,csr_matrix\n",
        "\n",
        "from sklearn.metrics import roc_auc_score\n",
        "from sklearn.metrics import accuracy_score\n",
        "from sklearn.metrics import recall_score\n",
        "from sklearn.metrics import precision_score\n",
        "\n",
        "from collections import defaultdict\n",
        "import math\n",
        "from sklearn.model_selection import GridSearchCV\n",
        "\n",
        "#MODELS\n",
        "from sklearn.linear_model import LogisticRegression\n",
        "from sklearn.naive_bayes import MultinomialNB\n",
        "from sklearn.ensemble import RandomForestClassifier\n",
        "import lightgbm as lgb\n",
        "\n",
        "import matplotlib.pyplot as plt\n",
        "from tqdm import tqdm\n",
        "import json\n",
        "from google.colab import files\n",
        "import timeit"
      ]
    },
    {
      "cell_type": "code",
      "source": [],
      "metadata": {
        "id": "xdTXOrznQzZ-"
      },
      "execution_count": null,
      "outputs": []
    },
    {
      "cell_type": "markdown",
      "metadata": {
        "id": "Wdji92e1MrUs"
      },
      "source": [
        "**Importing DATA**"
      ]
    },
    {
      "cell_type": "code",
      "execution_count": null,
      "metadata": {
        "colab": {
          "base_uri": "https://localhost:8080/"
        },
        "id": "wesueCeEz7nS",
        "outputId": "8233b408-b1e5-462e-92b2-49bf5cea3b01"
      },
      "outputs": [
        {
          "output_type": "execute_result",
          "data": {
            "text/plain": [
              "(949614, 414)"
            ]
          },
          "metadata": {},
          "execution_count": 2
        }
      ],
      "source": [
        "DATA = pd.read_pickle('/content/drive/MyDrive/Colab Notebooks/Applied Ai/PROJECT/Case Study 1/Final_Data.pkl')\n",
        "DATA.shape"
      ]
    },
    {
      "cell_type": "markdown",
      "metadata": {
        "id": "HvqZPkylyA8t"
      },
      "source": [
        "**Splitting Dataset into Training and Testing**"
      ]
    },
    {
      "cell_type": "code",
      "execution_count": null,
      "metadata": {
        "colab": {
          "base_uri": "https://localhost:8080/"
        },
        "id": "QmPaQW2arpr-",
        "outputId": "5d3b6dc7-4d27-4f42-de7f-e28be99ca206"
      },
      "outputs": [
        {
          "output_type": "stream",
          "name": "stdout",
          "text": [
            "XTrain_Cust.shape   (759691, 390)\n",
            "XTest_Cust   (189923, 390)\n",
            "YTrain   (759691, 24)\n",
            "YTest   (189923, 24)\n",
            "Prod_DATA_Train   (759691, 25)\n",
            "Prod_DATA_Test   (189923, 25)\n"
          ]
        }
      ],
      "source": [
        "#Can Break After Customer Data Clean\n",
        "#Splitting based on latest date, as we sorted based on date and ids\n",
        "\n",
        "X = DATA.iloc[:,:-24]\n",
        "Y = DATA.iloc[:,-24:]\n",
        "\n",
        "#selecting 80% Data as Train data, 20% Test Data\n",
        "breakpt = math.floor(len(DATA)*0.8)\n",
        "\n",
        "XTrain_Cust = X.iloc[:breakpt,:].copy()\n",
        "XTest_Cust = X.iloc[breakpt:,:].copy()\n",
        "\n",
        "YTrain = Y.iloc[:breakpt,:].copy()\n",
        "YTest = Y.iloc[breakpt:,:].copy()\n",
        "\n",
        "\n",
        "#id and Product Data\n",
        "ilocPD = [0]+list(np.arange(-24,0))\n",
        "Prod_DATA_Train = DATA.iloc[:breakpt,ilocPD]\n",
        "Prod_DATA_Test = DATA.iloc[breakpt:,ilocPD]\n",
        "\n",
        "print('XTrain_Cust.shape  ',XTrain_Cust.shape)\n",
        "print('XTest_Cust  ',XTest_Cust.shape)\n",
        "print('YTrain  ',YTrain.shape)\n",
        "print('YTest  ',YTest.shape)\n",
        "print('Prod_DATA_Train  ',Prod_DATA_Train.shape)\n",
        "print('Prod_DATA_Test  ',Prod_DATA_Test.shape)"
      ]
    },
    {
      "cell_type": "markdown",
      "metadata": {
        "id": "mq55bFHC_rMz"
      },
      "source": [
        "**Modelling:**\n",
        "- Here, We are going to use advantages of both Content based filtering and Collaborative filtering\n",
        "- In First Model, We'll use **Collborative filtering**\n",
        " - In which, Model will be trained only on Product Data.\n",
        " - It'll use product purchasing behaviour of Customers into account\n",
        "- In Second Model,We'll be training **Content based filtering** Model\n",
        " - In which, Model will be trained on Customer Related Data\n",
        " - This Model will user Customer Information to Predict Probabilities\n",
        "\n",
        "- In Our Final Customized Model, We'll be taking Average of the probabilities of both the Models to predct the output.\n",
        "- We'll be using Logistic Regression to train both models,\n",
        "- Why Logistic Regression?\n",
        " - Binary Classification in each iteration\n",
        " - Gives Probability Score\n",
        " - Workd well on High Dimentional Data\n",
        " - Multicollinearity does not affect"
      ]
    },
    {
      "cell_type": "markdown",
      "metadata": {
        "id": "dTXpfR8yTo66"
      },
      "source": [
        "**Modeling**"
      ]
    },
    {
      "cell_type": "markdown",
      "metadata": {
        "id": "GoC5iUVRY2Lf"
      },
      "source": [
        "**Model A**\n",
        "- 1. Logistic Regression"
      ]
    },
    {
      "cell_type": "markdown",
      "metadata": {
        "id": "kxLBC0wZTfZy"
      },
      "source": [
        "HyperParameter Tuning on Logistic Regression"
      ]
    },
    {
      "cell_type": "code",
      "execution_count": null,
      "metadata": {
        "id": "Czgej_I-U9z7"
      },
      "outputs": [],
      "source": [
        "def return_BestParameters(data,model,params):\n",
        "  '''\n",
        "  This Function Returns best Hyperparameter for Given Model for each Product\n",
        "  '''\n",
        "\n",
        "  #Store List of Best Prameters\n",
        "  bestParams = {}\n",
        "  bestAccuracy = {}\n",
        "\n",
        "  #Stores unique ids\n",
        "  ids = data['ncodpers'].values\n",
        "\n",
        "  for c in data.columns:\n",
        "      if c != 'ncodpers':\n",
        "          print('\\nProduct ',c,end=' ')\n",
        "          y_train = data[c]\n",
        "          x_train = data.drop([c, 'ncodpers'],axis=1)\n",
        "          \n",
        "          clf = GridSearchCV(model,params,scoring='accuracy')\n",
        "          clf.fit(x_train, y_train)\n",
        "\n",
        "          bestParams[c] = clf.best_params_\n",
        "          bestAccuracy[c] = clf.best_score_\n",
        "          print(' Accuracy ',clf.best_score_)\n",
        "\n",
        "  return bestParams,bestAccuracy"
      ]
    },
    {
      "cell_type": "code",
      "execution_count": null,
      "metadata": {
        "id": "l77lqjKtWRQm",
        "colab": {
          "base_uri": "https://localhost:8080/",
          "height": 1000
        },
        "outputId": "be62f3dd-66b3-4877-fd1a-c27a11daa2bf"
      },
      "outputs": [
        {
          "output_type": "stream",
          "name": "stdout",
          "text": [
            "--------------------------------------------------\n",
            "LogisticRegression\n",
            "--------------------------------------------------\n",
            "\n",
            "Product  ind_ahor_fin_ult1  Accuracy  0.9998828471066734\n",
            "\n",
            "Product  ind_aval_fin_ult1  Accuracy  0.9999710408625992\n",
            "\n",
            "Product  ind_cco_fin_ult1  Accuracy  0.655998297584231\n",
            "\n",
            "Product  ind_cder_fin_ult1  Accuracy  0.9994826844106749\n",
            "\n",
            "Product  ind_cno_fin_ult1  Accuracy  0.9836946852883852\n",
            "\n",
            "Product  ind_ctju_fin_ult1  Accuracy  0.9898945755628219\n",
            "\n",
            "Product  ind_ctma_fin_ult1  Accuracy  0.9872922016994401\n",
            "\n",
            "Product  ind_ctop_fin_ult1  Accuracy  0.8539274732204651\n",
            "\n",
            "Product  ind_ctpp_fin_ult1  Accuracy  0.9494636728339548\n",
            "\n",
            "Product  ind_deco_fin_ult1  Accuracy  0.9977438195283405\n",
            "\n",
            "Product  ind_deme_fin_ult1  Accuracy  0.9975911258742949\n",
            "\n",
            "Product  ind_dela_fin_ult1  Accuracy  0.9380577315536177\n",
            "\n",
            "Product  ind_ecue_fin_ult1  Accuracy  0.9070793241893629\n",
            "\n",
            "Product  ind_fond_fin_ult1  Accuracy  0.9745673084827663\n",
            "\n",
            "Product  ind_hip_fin_ult1  Accuracy  0.9933551932489457\n",
            "\n",
            "Product  ind_plan_fin_ult1  Accuracy  0.9882886661961334\n",
            "\n",
            "Product  ind_pres_fin_ult1  Accuracy  0.9971356775389604\n",
            "\n",
            "Product  ind_reca_fin_ult1  Accuracy  0.9367440478164815\n",
            "\n",
            "Product  ind_tjcr_fin_ult1  Accuracy  0.9305270440253557\n",
            "\n",
            "Product  ind_valo_fin_ult1  Accuracy  0.9659466984792398\n",
            "\n",
            "Product  ind_viv_fin_ult1  Accuracy  0.9957022000513522\n",
            "\n",
            "Product  ind_nomina_ult1  Accuracy  0.9938659382696031\n",
            "\n",
            "Product  ind_nom_pens_ult1  Accuracy  0.9936224131213536\n",
            "\n",
            "Product  ind_recibo_ult1  Accuracy  0.8897314552598325\n",
            "Time:  1387.9788831759997\n",
            "--------------------------------------------------\n",
            "Random Forest Classifier\n",
            "--------------------------------------------------\n",
            "\n",
            "Product  ind_ahor_fin_ult1  Accuracy  0.9998828471066734\n",
            "\n",
            "Product  ind_aval_fin_ult1  Accuracy  0.9999710408625992\n",
            "\n",
            "Product  ind_cco_fin_ult1  Accuracy  0.6767514620004991\n",
            "\n",
            "Product  ind_cder_fin_ult1  Accuracy  0.9994826844106749\n",
            "\n",
            "Product  ind_cno_fin_ult1  Accuracy  0.9831128697489591\n",
            "\n",
            "Product  ind_ctju_fin_ult1  Accuracy  0.9898945755628219\n",
            "\n",
            "Product  ind_ctma_fin_ult1  Accuracy  0.9872922016994401\n",
            "\n",
            "Product  ind_ctop_fin_ult1  Accuracy  0.8583094968328544\n",
            "\n",
            "Product  ind_ctpp_fin_ult1  Accuracy  0.9512459671134395\n",
            "\n",
            "Product  ind_deco_fin_ult1  Accuracy  0.9977438195283405\n",
            "\n",
            "Product  ind_deme_fin_ult1  Accuracy  0.9975924421920276\n",
            "\n",
            "Product  ind_dela_fin_ult1  Accuracy  0.9415235931377716\n",
            "\n",
            "Product  ind_ecue_fin_ult1  Accuracy  0.9106162813211913\n",
            "\n",
            "Product  ind_fond_fin_ult1  Accuracy  0.9777264703743338\n",
            "\n",
            "Product  ind_hip_fin_ult1  Accuracy  0.993382835921334\n",
            "\n",
            "Product  ind_plan_fin_ult1  Accuracy  0.989566810723321\n",
            "\n",
            "Product  ind_pres_fin_ult1  Accuracy  0.9971356775389604\n",
            "\n",
            "Product  ind_reca_fin_ult1  Accuracy  0.9419750925545619\n",
            "\n",
            "Product  ind_tjcr_fin_ult1  Accuracy  0.9328911433354179\n",
            "\n",
            "Product  ind_valo_fin_ult1  Accuracy  0.9691927375750853\n",
            "\n",
            "Product  ind_viv_fin_ult1  Accuracy  0.9957166795464127\n",
            "\n",
            "Product  ind_nomina_ult1  Accuracy  0.9937606321578997\n",
            "\n",
            "Product  ind_nom_pens_ult1  Accuracy  0.9937132385684213\n",
            "\n",
            "Product  ind_recibo_ult1  Accuracy  0.8933645094686831\n",
            "Time:  4324.420735986\n"
          ]
        },
        {
          "output_type": "execute_result",
          "data": {
            "text/plain": [
              "\"\\n#4. Light Gradient Boosting Machine\\nprint('-'*50)\\nprint('LGBT')\\nprint('-'*50)\\nlgbb = lgb.LGBMClassifier()\\nparams = {'max_depth':[3,5],'learning_rate':[0.01,0.1,1]}\\nbestParams_lgbm,bestAccuracy_lgbm = return_BestParameters(Prod_DATA_Train,lgbb,params)\\n\\nstop = timeit.default_timer()\\nprint('Time: ', stop - start)\\nstart = timeit.default_timer()\""
            ],
            "application/vnd.google.colaboratory.intrinsic+json": {
              "type": "string"
            }
          },
          "metadata": {},
          "execution_count": 10
        }
      ],
      "source": [
        "#Getting Best Hyperparameters \n",
        "start = timeit.default_timer()\n",
        "\n",
        "#1. Logistic Regression\n",
        "print('-'*50)\n",
        "print('LogisticRegression')\n",
        "print('-'*50)\n",
        "#We are using solver as liblinear, because we are hypertuning penalty l1 and l2\n",
        "logReg = LogisticRegression(solver='liblinear')\n",
        "params = {'C':[0.1,1,10],'penalty':['l1','l2']}\n",
        "bestParams_logReg,bestAccuracy_logReg = return_BestParameters(Prod_DATA_Train,logReg,params)\n",
        "\n",
        "stop = timeit.default_timer()\n",
        "print('Time: ', stop - start)\n",
        "start = timeit.default_timer()\n",
        "\n",
        "#2. Naive Bayes\n",
        "print('-'*50)\n",
        "print('Naive Bayes')\n",
        "print('-'*50)\n",
        "naiveB = MultinomialNB()\n",
        "params = {'alpha':[0.1,1,10]}\n",
        "bestParams_nB,bestAccuracy_nB = return_BestParameters(Prod_DATA_Train,naiveB,params)\n",
        "\n",
        "stop = timeit.default_timer()\n",
        "print('Time: ', stop - start)\n",
        "start = timeit.default_timer()\n",
        "\n",
        "#3. Random Forest Classifier\n",
        "print('-'*50)\n",
        "print('Random Forest Classifier')\n",
        "print('-'*50)\n",
        "rf = RandomForestClassifier()\n",
        "params = {'n_estimators':[50,100],'max_depth':[3,5]}\n",
        "bestParams_rf,bestAccuracy_rf = return_BestParameters(Prod_DATA_Train,rf,params)\n",
        "\n",
        "stop = timeit.default_timer()\n",
        "print('Time: ', stop - start)\n",
        "start = timeit.default_timer()\n",
        "#4. Light Gradient Boosting Machine\n",
        "print('-'*50)\n",
        "print('LGBT')\n",
        "print('-'*50)\n",
        "lgbb = lgb.LGBMClassifier()\n",
        "params = {'max_depth':[3,5],'learning_rate':[0.01,0.1,1]}\n",
        "bestParams_lgbm,bestAccuracy_lgbm = return_BestParameters(Prod_DATA_Train,lgbb,params)\n",
        "\n",
        "stop = timeit.default_timer()\n",
        "print('Time: ', stop - start)\n",
        "start = timeit.default_timer()"
      ]
    },
    {
      "cell_type": "code",
      "source": [
        "#To Save Best Accuracies and Parameters in File to use later\n",
        "'''\n",
        "json_object = json.dumps(bestParams_logReg, indent = 4)\n",
        "\n",
        "try:\n",
        "    geeky_file = open('bestParams_logReg.txt', 'wt')\n",
        "    geeky_file.write(json_object)\n",
        "    geeky_file.close()\n",
        "except:\n",
        "    print(\"Unable to write to file\")\n",
        "files.download(\"bestParams_logReg.txt\")\n",
        "\n",
        "json_object = json.dumps(bestAccuracy_logReg, indent = 4)\n",
        "\n",
        "try:\n",
        "    geeky_file = open('bestAccuracy_logReg.txt', 'wt')\n",
        "    geeky_file.write(json_object)\n",
        "    geeky_file.close()\n",
        "except:\n",
        "    print(\"Unable to write to file\")\n",
        "files.download(\"bestAccuracy_logReg.txt\")\n",
        "\n",
        "json_object = json.dumps(bestParams_nB, indent = 4)\n",
        "\n",
        "try:\n",
        "    geeky_file = open('bestParams_nB.txt', 'wt')\n",
        "    geeky_file.write(json_object)\n",
        "    geeky_file.close()\n",
        "except:\n",
        "    print(\"Unable to write to file\")\n",
        "files.download(\"bestParams_nB.txt\")\n",
        "\n",
        "json_object = json.dumps(bestAccuracy_nB, indent = 4)\n",
        "\n",
        "try:\n",
        "    geeky_file = open('bestAccuracy_nB.txt', 'wt')\n",
        "    geeky_file.write(json_object)\n",
        "    geeky_file.close()\n",
        "except:\n",
        "    print(\"Unable to write to file\")\n",
        "files.download(\"bestAccuracy_nB.txt\")\n",
        "\n",
        "\n",
        "json_object = json.dumps(bestParams_rf, indent = 4)\n",
        "\n",
        "try:\n",
        "    geeky_file = open('bestParams_rf.txt', 'wt')\n",
        "    geeky_file.write(json_object)\n",
        "    geeky_file.close()\n",
        "except:\n",
        "    print(\"Unable to write to file\")\n",
        "files.download(\"bestParams_rf.txt\")\n",
        "\n",
        "json_object = json.dumps(bestAccuracy_rf, indent = 4)\n",
        "\n",
        "try:\n",
        "    geeky_file = open('bestAccuracy_rf.txt', 'wt')\n",
        "    geeky_file.write(json_object)\n",
        "    geeky_file.close()\n",
        "except:\n",
        "    print(\"Unable to write to file\")\n",
        "files.download(\"bestAccuracy_rf.txt\")\n",
        "\n",
        "\n",
        "json_object = json.dumps(bestParams_lgbm, indent = 4)\n",
        "\n",
        "try:\n",
        "    geeky_file = open('bestParams_lgbm.txt', 'wt')\n",
        "    geeky_file.write(json_object)\n",
        "    geeky_file.close()\n",
        "except:\n",
        "    print(\"Unable to write to file\")\n",
        "files.download(\"bestParams_lgbm.txt\")\n",
        "\n",
        "json_object = json.dumps(bestAccuracy_lgbm, indent = 4)\n",
        "\n",
        "try:\n",
        "    geeky_file = open('bestAccuracy_lgbm.txt', 'wt')\n",
        "    geeky_file.write(json_object)\n",
        "    geeky_file.close()\n",
        "except:\n",
        "    print(\"Unable to write to file\")\n",
        "files.download(\"bestAccuracy_lgbm.txt\")\n",
        "\n",
        "#Retriving Files\n",
        "def returnDict(name):\n",
        " \n",
        "  This Function Retrieves saved files\n",
        " \n",
        "  path = '/content/drive/MyDrive/Colab Notebooks/Applied Ai/PROJECT/Case Study 1/'+name+'.txt'\n",
        "  with open(path) as json_file:\n",
        "      dicttt = json.load(json_file)\n",
        "  return dicttt\n",
        "\n",
        "bestAccuracy_logReg = returnDict('bestAccuracy_logReg')\n",
        "bestParams_logReg = returnDict('bestParams_logReg')\n",
        "bestParams_rf = returnDict('bestParams_rf')\n",
        "bestAccuracy_rf = returnDict('bestAccuracy_rf')\n",
        "'''"
      ],
      "metadata": {
        "colab": {
          "base_uri": "https://localhost:8080/",
          "height": 89
        },
        "id": "YPIehn0zQ5bW",
        "outputId": "83b8c56e-78b7-415d-c82a-1ecdf3adb700"
      },
      "execution_count": null,
      "outputs": [
        {
          "output_type": "display_data",
          "data": {
            "text/plain": [
              "<IPython.core.display.Javascript object>"
            ],
            "application/javascript": [
              "\n",
              "    async function download(id, filename, size) {\n",
              "      if (!google.colab.kernel.accessAllowed) {\n",
              "        return;\n",
              "      }\n",
              "      const div = document.createElement('div');\n",
              "      const label = document.createElement('label');\n",
              "      label.textContent = `Downloading \"${filename}\": `;\n",
              "      div.appendChild(label);\n",
              "      const progress = document.createElement('progress');\n",
              "      progress.max = size;\n",
              "      div.appendChild(progress);\n",
              "      document.body.appendChild(div);\n",
              "\n",
              "      const buffers = [];\n",
              "      let downloaded = 0;\n",
              "\n",
              "      const channel = await google.colab.kernel.comms.open(id);\n",
              "      // Send a message to notify the kernel that we're ready.\n",
              "      channel.send({})\n",
              "\n",
              "      for await (const message of channel.messages) {\n",
              "        // Send a message to notify the kernel that we're ready.\n",
              "        channel.send({})\n",
              "        if (message.buffers) {\n",
              "          for (const buffer of message.buffers) {\n",
              "            buffers.push(buffer);\n",
              "            downloaded += buffer.byteLength;\n",
              "            progress.value = downloaded;\n",
              "          }\n",
              "        }\n",
              "      }\n",
              "      const blob = new Blob(buffers, {type: 'application/binary'});\n",
              "      const a = document.createElement('a');\n",
              "      a.href = window.URL.createObjectURL(blob);\n",
              "      a.download = filename;\n",
              "      div.appendChild(a);\n",
              "      a.click();\n",
              "      div.remove();\n",
              "    }\n",
              "  "
            ]
          },
          "metadata": {}
        },
        {
          "output_type": "display_data",
          "data": {
            "text/plain": [
              "<IPython.core.display.Javascript object>"
            ],
            "application/javascript": [
              "download(\"download_0958327e-3015-4d05-a2d8-9bcbaad49a6a\", \"bestParams_logReg.txt\", 1816)"
            ]
          },
          "metadata": {}
        },
        {
          "output_type": "display_data",
          "data": {
            "text/plain": [
              "<IPython.core.display.Javascript object>"
            ],
            "application/javascript": [
              "\n",
              "    async function download(id, filename, size) {\n",
              "      if (!google.colab.kernel.accessAllowed) {\n",
              "        return;\n",
              "      }\n",
              "      const div = document.createElement('div');\n",
              "      const label = document.createElement('label');\n",
              "      label.textContent = `Downloading \"${filename}\": `;\n",
              "      div.appendChild(label);\n",
              "      const progress = document.createElement('progress');\n",
              "      progress.max = size;\n",
              "      div.appendChild(progress);\n",
              "      document.body.appendChild(div);\n",
              "\n",
              "      const buffers = [];\n",
              "      let downloaded = 0;\n",
              "\n",
              "      const channel = await google.colab.kernel.comms.open(id);\n",
              "      // Send a message to notify the kernel that we're ready.\n",
              "      channel.send({})\n",
              "\n",
              "      for await (const message of channel.messages) {\n",
              "        // Send a message to notify the kernel that we're ready.\n",
              "        channel.send({})\n",
              "        if (message.buffers) {\n",
              "          for (const buffer of message.buffers) {\n",
              "            buffers.push(buffer);\n",
              "            downloaded += buffer.byteLength;\n",
              "            progress.value = downloaded;\n",
              "          }\n",
              "        }\n",
              "      }\n",
              "      const blob = new Blob(buffers, {type: 'application/binary'});\n",
              "      const a = document.createElement('a');\n",
              "      a.href = window.URL.createObjectURL(blob);\n",
              "      a.download = filename;\n",
              "      div.appendChild(a);\n",
              "      a.click();\n",
              "      div.remove();\n",
              "    }\n",
              "  "
            ]
          },
          "metadata": {}
        },
        {
          "output_type": "display_data",
          "data": {
            "text/plain": [
              "<IPython.core.display.Javascript object>"
            ],
            "application/javascript": [
              "download(\"download_f0a00d90-7de1-40cc-ba53-2c9ae3cf93b1\", \"bestAccuracy_logReg.txt\", 1073)"
            ]
          },
          "metadata": {}
        },
        {
          "output_type": "display_data",
          "data": {
            "text/plain": [
              "<IPython.core.display.Javascript object>"
            ],
            "application/javascript": [
              "\n",
              "    async function download(id, filename, size) {\n",
              "      if (!google.colab.kernel.accessAllowed) {\n",
              "        return;\n",
              "      }\n",
              "      const div = document.createElement('div');\n",
              "      const label = document.createElement('label');\n",
              "      label.textContent = `Downloading \"${filename}\": `;\n",
              "      div.appendChild(label);\n",
              "      const progress = document.createElement('progress');\n",
              "      progress.max = size;\n",
              "      div.appendChild(progress);\n",
              "      document.body.appendChild(div);\n",
              "\n",
              "      const buffers = [];\n",
              "      let downloaded = 0;\n",
              "\n",
              "      const channel = await google.colab.kernel.comms.open(id);\n",
              "      // Send a message to notify the kernel that we're ready.\n",
              "      channel.send({})\n",
              "\n",
              "      for await (const message of channel.messages) {\n",
              "        // Send a message to notify the kernel that we're ready.\n",
              "        channel.send({})\n",
              "        if (message.buffers) {\n",
              "          for (const buffer of message.buffers) {\n",
              "            buffers.push(buffer);\n",
              "            downloaded += buffer.byteLength;\n",
              "            progress.value = downloaded;\n",
              "          }\n",
              "        }\n",
              "      }\n",
              "      const blob = new Blob(buffers, {type: 'application/binary'});\n",
              "      const a = document.createElement('a');\n",
              "      a.href = window.URL.createObjectURL(blob);\n",
              "      a.download = filename;\n",
              "      div.appendChild(a);\n",
              "      a.click();\n",
              "      div.remove();\n",
              "    }\n",
              "  "
            ]
          },
          "metadata": {}
        },
        {
          "output_type": "display_data",
          "data": {
            "text/plain": [
              "<IPython.core.display.Javascript object>"
            ],
            "application/javascript": [
              "download(\"download_46e95760-5a8b-4140-bd43-ac4cdc193c89\", \"bestParams_rf.txt\", 2041)"
            ]
          },
          "metadata": {}
        },
        {
          "output_type": "display_data",
          "data": {
            "text/plain": [
              "<IPython.core.display.Javascript object>"
            ],
            "application/javascript": [
              "\n",
              "    async function download(id, filename, size) {\n",
              "      if (!google.colab.kernel.accessAllowed) {\n",
              "        return;\n",
              "      }\n",
              "      const div = document.createElement('div');\n",
              "      const label = document.createElement('label');\n",
              "      label.textContent = `Downloading \"${filename}\": `;\n",
              "      div.appendChild(label);\n",
              "      const progress = document.createElement('progress');\n",
              "      progress.max = size;\n",
              "      div.appendChild(progress);\n",
              "      document.body.appendChild(div);\n",
              "\n",
              "      const buffers = [];\n",
              "      let downloaded = 0;\n",
              "\n",
              "      const channel = await google.colab.kernel.comms.open(id);\n",
              "      // Send a message to notify the kernel that we're ready.\n",
              "      channel.send({})\n",
              "\n",
              "      for await (const message of channel.messages) {\n",
              "        // Send a message to notify the kernel that we're ready.\n",
              "        channel.send({})\n",
              "        if (message.buffers) {\n",
              "          for (const buffer of message.buffers) {\n",
              "            buffers.push(buffer);\n",
              "            downloaded += buffer.byteLength;\n",
              "            progress.value = downloaded;\n",
              "          }\n",
              "        }\n",
              "      }\n",
              "      const blob = new Blob(buffers, {type: 'application/binary'});\n",
              "      const a = document.createElement('a');\n",
              "      a.href = window.URL.createObjectURL(blob);\n",
              "      a.download = filename;\n",
              "      div.appendChild(a);\n",
              "      a.click();\n",
              "      div.remove();\n",
              "    }\n",
              "  "
            ]
          },
          "metadata": {}
        },
        {
          "output_type": "display_data",
          "data": {
            "text/plain": [
              "<IPython.core.display.Javascript object>"
            ],
            "application/javascript": [
              "download(\"download_a9b29a61-6a6c-48ff-851c-25ac20fde039\", \"bestAccuracy_rf.txt\", 1072)"
            ]
          },
          "metadata": {}
        },
        {
          "output_type": "execute_result",
          "data": {
            "text/plain": [
              "'\\njson_object = json.dumps(bestParams_lgbm, indent = 4)\\n\\ntry:\\n    geeky_file = open(\\'bestParams_lgbm.txt\\', \\'wt\\')\\n    geeky_file.write(json_object)\\n    geeky_file.close()\\nexcept:\\n    print(\"Unable to write to file\")\\nfiles.download(\"bestParams_lgbm.txt\")\\n\\njson_object = json.dumps(bestAccuracy_lgbm, indent = 4)\\n\\ntry:\\n    geeky_file = open(\\'bestAccuracy_lgbm.txt\\', \\'wt\\')\\n    geeky_file.write(json_object)\\n    geeky_file.close()\\nexcept:\\n    print(\"Unable to write to file\")\\nfiles.download(\"bestAccuracy_lgbm.txt\")'"
            ],
            "application/vnd.google.colaboratory.intrinsic+json": {
              "type": "string"
            }
          },
          "metadata": {},
          "execution_count": 11
        }
      ]
    },
    {
      "cell_type": "code",
      "source": [
        "\n"
      ],
      "metadata": {
        "id": "kicVoLTYbzor"
      },
      "execution_count": null,
      "outputs": []
    },
    {
      "cell_type": "code",
      "source": [
        "#Finding the model using averages of probabilities\n",
        "Accuracies = [bestAccuracy_logReg,bestAccuracy_nB,bestAccuracy_rf,bestAccuracy_lgbm]\n",
        "labbels = ['logistic Regression','Naive Bayes','Random Forest','LGBM']\n",
        "AvgAccuracy = dict()\n",
        "for i,j in zip(labbels,Accuracies):\n",
        "  sum = 0\n",
        "  for k in j.values():\n",
        "    sum+=k\n",
        "  AvgAccuracy[i] = sum/len(j)"
      ],
      "metadata": {
        "id": "D-TAOrZqyhjl"
      },
      "execution_count": null,
      "outputs": []
    },
    {
      "cell_type": "code",
      "source": [
        "#AvgAccuracy = {'logistic Regression': 0.9549822508397751, 'Naive Bayes': 0.9531768599683642, 'Random Forest': 0.9571864846233221, 'LGBM': 0.9571190240531747}"
      ],
      "metadata": {
        "id": "tiuTCjBtAUay"
      },
      "execution_count": 4,
      "outputs": []
    },
    {
      "cell_type": "code",
      "source": [
        "col = AvgAccuracy.keys()\n",
        "#Checking the Difference \n",
        "val = AvgAccuracy.values()\n",
        "val = [i-0.95 for i in val]\n",
        "\n",
        "print(AvgAccuracy)\n",
        "\n",
        "fig = plt.figure(figsize =(15, 8))\n",
        "plt.bar(col,val )\n",
        "plt.show()"
      ],
      "metadata": {
        "colab": {
          "base_uri": "https://localhost:8080/",
          "height": 501
        },
        "id": "h-PPuRiU__9b",
        "outputId": "e1a16858-5ee2-4226-905b-d56852bf6887"
      },
      "execution_count": 6,
      "outputs": [
        {
          "output_type": "stream",
          "name": "stdout",
          "text": [
            "{'logistic Regression': 0.9549822508397751, 'Naive Bayes': 0.9531768599683642, 'Random Forest': 0.9571864846233221, 'LGBM': 0.9571190240531747}\n"
          ]
        },
        {
          "output_type": "display_data",
          "data": {
            "text/plain": [
              "<Figure size 1080x576 with 1 Axes>"
            ],
            "image/png": "[encoded data removed]"
          },
          "metadata": {
            "needs_background": "light"
          }
        }
      ]
    },
    {
      "cell_type": "markdown",
      "source": [
        "**OBSERVATION:**\n",
        "- All accuracies are pretty good, but Random Forest has the best Acuracy\n",
        "- We'll be Using 'Random Forest' to train the Model\n",
        "\n",
        "**Time Taken By Each Algorithm to run is as follows**\n"
      ],
      "metadata": {
        "id": "g0DyImZCFkk9"
      }
    },
    {
      "cell_type": "code",
      "source": [
        "import matplotlib.pyplot as plt\n"
      ],
      "metadata": {
        "id": "5574elbpU6EC"
      },
      "execution_count": 2,
      "outputs": []
    },
    {
      "cell_type": "code",
      "source": [
        "labbels = ['logistic Regression','Naive Bayes','Random Forest','LGBM']\n",
        "Time = [25.50,2.63,74.10,57.78]\n",
        "\n",
        "fig = plt.figure(figsize =(15, 8))\n",
        "plt.pie(Time, labels = labbels)\n",
        "plt.show()"
      ],
      "metadata": {
        "colab": {
          "base_uri": "https://localhost:8080/",
          "height": 466
        },
        "id": "gZTj1utBHLVV",
        "outputId": "5b43b32d-5ca8-419b-a422-e59c05e91d26"
      },
      "execution_count": 3,
      "outputs": [
        {
          "output_type": "display_data",
          "data": {
            "text/plain": [
              "<Figure size 1080x576 with 1 Axes>"
            ],
            "image/png": "[encoded data removed]"
          },
          "metadata": {}
        }
      ]
    },
    {
      "cell_type": "markdown",
      "source": [
        "**OBSERVATION:**\n",
        "- Random Forest took the highest time\n",
        "- Naive bayes has only 1 parameter for tuning, still it took way less time than others\n",
        "- LGBM has 1 prameter more to tune than Random Forest, Still it took less time than Random Forest."
      ],
      "metadata": {
        "id": "pjK9GVcCIgbd"
      }
    },
    {
      "cell_type": "markdown",
      "source": [
        "**MODEL A**"
      ],
      "metadata": {
        "id": "0nhg2NzFXRIZ"
      }
    },
    {
      "cell_type": "code",
      "source": [
        "from sklearn.model_selection import train_test_split"
      ],
      "metadata": {
        "id": "bPjNpY73X4jX"
      },
      "execution_count": 7,
      "outputs": []
    },
    {
      "cell_type": "code",
      "execution_count": null,
      "metadata": {
        "colab": {
          "base_uri": "https://localhost:8080/"
        },
        "id": "lLl2wUk1_dtS",
        "outputId": "ac9aad48-5d06-474a-feef-45e9ef3553ab"
      },
      "outputs": [
        {
          "output_type": "stream",
          "name": "stdout",
          "text": [
            "Product  ind_ahor_fin_ult1\n",
            "0.7376950197070973\n",
            "Product  ind_aval_fin_ult1\n",
            "0.9775067406749759\n",
            "Product  ind_cco_fin_ult1\n",
            "0.6518088025670001\n",
            "Product  ind_cder_fin_ult1\n",
            "0.8088032207893757\n",
            "Product  ind_cno_fin_ult1\n",
            "0.9822782897807705\n",
            "Product  ind_ctju_fin_ult1\n",
            "0.8678594623794588\n",
            "Product  ind_ctma_fin_ult1\n",
            "0.74530540693312\n",
            "Product  ind_ctop_fin_ult1\n",
            "0.6143451662546868\n",
            "Product  ind_ctpp_fin_ult1\n",
            "0.7447061062887063\n",
            "Product  ind_deco_fin_ult1\n",
            "0.7647211897201852\n",
            "Product  ind_deme_fin_ult1\n",
            "0.8682338128674747\n",
            "Product  ind_dela_fin_ult1\n",
            "0.8092268375788216\n",
            "Product  ind_ecue_fin_ult1\n",
            "0.8257953120755304\n",
            "Product  ind_fond_fin_ult1\n",
            "0.8517008890153932\n",
            "Product  ind_hip_fin_ult1\n",
            "0.9048758920459269\n",
            "Product  ind_plan_fin_ult1\n",
            "0.8001953692326707\n",
            "Product  ind_pres_fin_ult1\n",
            "0.6951860425327434\n",
            "Product  ind_reca_fin_ult1\n",
            "0.8480564225481088\n",
            "Product  ind_tjcr_fin_ult1\n",
            "0.9039429106793019\n",
            "Product  ind_valo_fin_ult1\n",
            "0.8249202731406217\n",
            "Product  ind_viv_fin_ult1\n",
            "0.7684381761927243\n",
            "Product  ind_nomina_ult1\n",
            "0.9967476073263\n",
            "Product  ind_nom_pens_ult1\n",
            "0.9990168535913945\n",
            "Product  ind_recibo_ult1\n",
            "0.8767883458177369\n"
          ]
        }
      ],
      "source": [
        "#Store List of Models\n",
        "models = {}\n",
        "#Stores List of Probabilities of each model\n",
        "model_preds = {}\n",
        "#creating default dictionary to store ids of predictions\n",
        "\n",
        "id_preds = defaultdict(list)\n",
        "#Stores unique ids\n",
        "\n",
        "ModelAccuracy = dict()\n",
        "ModelPrecision = dict()\n",
        "ModelRecall = dict()\n",
        "\n",
        "ids = Prod_DATA_Train['ncodpers'].values\n",
        "\n",
        "for c in Prod_DATA_Train.columns:\n",
        "    if c != 'ncodpers':\n",
        "        print('Product ',c)\n",
        "        y_new = Prod_DATA_Train[c]\n",
        "        x_new = Prod_DATA_Train.drop([c, 'ncodpers'],axis=1)\n",
        "\n",
        "        x_train,x_test,y_train,y_test = train_test_split(x_new,y_new,random_state=42,stratify=y_new)\n",
        "\n",
        "        maxDepth = bestParams_rf[c]['max_depth']\n",
        "        nEstimators = bestParams_rf[c]['n_estimators']\n",
        "        clf = RandomForestClassifier(max_depth=maxDepth,n_estimators=nEstimators )\n",
        "        clf.fit(x_train, y_train)\n",
        "\n",
        "        #Stores Probability Value, [:,1]-> to not to gate index values\n",
        "        p_train = clf.predict_proba(x_train)[:,1]\n",
        "        \n",
        "        #Getting Predictions\n",
        "        y_pred = clf.predict(x_test)\n",
        "\n",
        "        models[c] = clf\n",
        "        #Storing Probabilities of Each Model For each User \n",
        "        model_preds[c] = p_train\n",
        "\n",
        "        for id, p in zip(ids, p_train):\n",
        "            id_preds[id].append(p)\n",
        " \n",
        "        ModelAccuracy[c] =  accuracy_score(y_test, y_pred)\n",
        "        ModelRecall[c] =  recall_score(y_test, y_pred,zero_division=0)\n",
        "        ModelPrecision[c] = precision_score(y_test, y_pred,zero_division=0)\n",
        "\n",
        "        print(roc_auc_score(y_train, p_train))\n"
      ]
    },
    {
      "cell_type": "code",
      "source": [
        "#Plot of Accuracies\n"
      ],
      "metadata": {
        "id": "Gevrol3wAfYr"
      },
      "execution_count": null,
      "outputs": []
    },
    {
      "cell_type": "markdown",
      "metadata": {
        "id": "Yji_IeBWY5kn"
      },
      "source": [
        "**Model B**\n",
        "- We're using Logistic regression for Content based filtering due to very high dimentional data nad low computing power"
      ]
    },
    {
      "cell_type": "code",
      "source": [
        "def return_BestParameters_Customer(data,XTrain_Cust,model,params):\n",
        "  '''\n",
        "  This Function Returns best Hyperparameter for Given Model for each Product\n",
        "  '''\n",
        "\n",
        "  #Store List of Best Prameters\n",
        "  bestParams = {}\n",
        "  bestAccuracy = {}\n",
        "\n",
        "  #Stores unique ids\n",
        "  #We are using solver as liblinear, because we are hypertuning penalty l1 and l2\n",
        "  ids = data['ncodpers'].values\n",
        "\n",
        "  for c in data.columns:\n",
        "      if c != 'ncodpers':\n",
        "          print('\\nProduct ',c,end=' ')\n",
        "          y_train = data[c]\n",
        "          x_train = XTrain_Cust.drop(['ncodpers'],axis=1)\n",
        "          \n",
        "          \n",
        "          clf = GridSearchCV(model,params,scoring='accuracy')\n",
        "          clf.fit(x_train, y_train)\n",
        "\n",
        "          bestParams[c] = clf.best_params_\n",
        "          bestAccuracy[c] = clf.best_score_\n",
        "          print(' Accuracy ',clf.best_score_)\n",
        "\n",
        "  return bestParams,bestAccuracy"
      ],
      "metadata": {
        "id": "6TxR3CxqOEoW"
      },
      "execution_count": null,
      "outputs": []
    },
    {
      "cell_type": "code",
      "source": [
        "import warnings"
      ],
      "metadata": {
        "id": "Y6YsrkyFl44O"
      },
      "execution_count": null,
      "outputs": []
    },
    {
      "cell_type": "code",
      "source": [
        "logReg = LogisticRegression(solver='liblinear')\n",
        "params = {'C':[0.1,1,10],'penalty':['l1','l2']}\n",
        "warnings.filterwarnings(\"ignore\")\n",
        "#ModelB_bestParams_logReg,ModelB_bestAccuracy_logReg = return_BestParameters_Customer(Prod_DATA_Train,XTrain_Cust,logReg,params)"
      ],
      "metadata": {
        "id": "c0p2ZG5mNtYm"
      },
      "execution_count": null,
      "outputs": []
    },
    {
      "cell_type": "code",
      "source": [
        "#We have best values of C as 0.1 and using l1 as penalty because of high dimentional data"
      ],
      "metadata": {
        "id": "pfRpoNO8mIqb"
      },
      "execution_count": null,
      "outputs": []
    },
    {
      "cell_type": "code",
      "execution_count": null,
      "metadata": {
        "colab": {
          "base_uri": "https://localhost:8080/"
        },
        "id": "rs1eOobWoe7n",
        "outputId": "3757f802-e1ef-4597-9fd2-384fc355ae8c"
      },
      "outputs": [
        {
          "output_type": "stream",
          "name": "stdout",
          "text": [
            "Product  ind_ahor_fin_ult1\n",
            "0.8630079681881899\n",
            "Product  ind_aval_fin_ult1\n",
            "0.8033571499261819\n",
            "Product  ind_cco_fin_ult1\n",
            "0.791505079190189\n",
            "Product  ind_cder_fin_ult1\n",
            "0.8989523867623354\n",
            "Product  ind_cno_fin_ult1\n",
            "0.8785810510572306\n",
            "Product  ind_ctju_fin_ult1\n",
            "0.998531395994706\n",
            "Product  ind_ctma_fin_ult1\n",
            "0.8963498958096702\n",
            "Product  ind_ctop_fin_ult1\n",
            "0.9006619760263744\n",
            "Product  ind_ctpp_fin_ult1\n",
            "0.8830036226596443\n",
            "Product  ind_deco_fin_ult1\n",
            "0.9323761496449934\n",
            "Product  ind_deme_fin_ult1\n",
            "0.8913250404454607\n",
            "Product  ind_dela_fin_ult1\n",
            "0.91377977992772\n",
            "Product  ind_ecue_fin_ult1\n",
            "0.8778574057189542\n",
            "Product  ind_fond_fin_ult1\n",
            "0.9194464651254721\n",
            "Product  ind_hip_fin_ult1\n",
            "0.9426729796938011\n",
            "Product  ind_plan_fin_ult1\n",
            "0.9226637954120784\n",
            "Product  ind_pres_fin_ult1\n",
            "0.9411384856944203\n",
            "Product  ind_reca_fin_ult1\n",
            "0.8638193529237006\n",
            "Product  ind_tjcr_fin_ult1\n",
            "0.8985668852804203\n",
            "Product  ind_valo_fin_ult1\n",
            "0.9110599978653233\n",
            "Product  ind_viv_fin_ult1\n",
            "0.8910022138539722\n",
            "Product  ind_nomina_ult1\n",
            "0.8829750923220778\n",
            "Product  ind_nom_pens_ult1\n",
            "0.8792666331389962\n",
            "Product  ind_recibo_ult1\n",
            "0.8924530863871071\n"
          ]
        }
      ],
      "source": [
        "#Store List of Models\n",
        "models2 = {}\n",
        "#Stores List of Probabilities of each model\n",
        "model_preds2 = {}\n",
        "#creating default dictionary to store ids of predictions\n",
        "id_preds2 = defaultdict(list)\n",
        "#Stores unique ids\n",
        "ids2 = XTrain_Cust['ncodpers'].values\n",
        "\n",
        "ModelBAccuracy2 = dict()\n",
        "ModelBPrecision2 = dict()\n",
        "ModelBRecall2 = dict()\n",
        "\n",
        "for c in Prod_DATA_Train.columns:\n",
        "    if c != 'ncodpers':\n",
        "        print('Product ',c)\n",
        "\n",
        "        y_new = Prod_DATA_Train[c]\n",
        "        x_new = XTrain_Cust.drop('ncodpers',axis=1)\n",
        "\n",
        "        x_train2,x_test2,y_train2,y_test2 = train_test_split(x_new,y_new,random_state=42,stratify=y_new)\n",
        "\n",
        "        clf2 = LogisticRegression(C=0.1,penalty='l1',solver='liblinear')\n",
        "        clf2.fit(x_train2, y_train2)\n",
        "\n",
        "        #Stores Probability Value, [:,1]-> to not to gate index values\n",
        "        p_train2 = clf2.predict_proba(x_train2)[:,1]\n",
        "        \n",
        "        #Predicted Prob\n",
        "        y_pred = clf2.predict(x_test2)\n",
        "\n",
        "        models2[c] = clf2\n",
        "        #Storing Probabilities of Each Model For each User \n",
        "        model_preds2[c] = p_train2\n",
        "\n",
        "        for id, p in zip(ids2, p_train2):\n",
        "            id_preds2[id].append(p)\n",
        "\n",
        "        ModelBAccuracy2[c] =  accuracy_score(y_test2, y_pred)\n",
        "        ModelBRecall2[c] =  recall_score(y_test2, y_pred)\n",
        "        ModelBPrecision2[c] = precision_score(y_test2, y_pred)\n",
        "            \n",
        "        print(roc_auc_score(y_train2, p_train2))\n"
      ]
    },
    {
      "cell_type": "markdown",
      "metadata": {
        "id": "g0-KPyiVOaei"
      },
      "source": [
        "**From Given Discription of Data:**\n",
        "- Big Problem in the Santander Product Recommendation was, Some Customers were getting lots of recommendations but some were hardly getting any. \n",
        "- To resolve this we are creating a threshold of 7 , So we'll be recommending 7 Products to each User\n",
        "- In this new Solution, We'll be recommending the products which are not bought by the user. We'll name it as nonActive Products\n"
      ]
    },
    {
      "cell_type": "code",
      "execution_count": null,
      "metadata": {
        "id": "gkeTQ2LaUzIh"
      },
      "outputs": [],
      "source": [
        "#Creating Dictionary of already bought Products\n",
        "already_active = {}\n",
        "for row in Prod_DATA_Train.values:\n",
        "    row = list(row)\n",
        "    id = row.pop(0)\n",
        "    active = []\n",
        "    for c in zip(Prod_DATA_Train.columns[1:], row):\n",
        "      if (c[1] > 0):\n",
        "        active.append(c[0])\n",
        "    already_active[id] = active\n",
        "\n",
        "#Taking Average of Probabiities\n",
        "id_Pred_Final = {}\n",
        "for i,j in id_preds.items():\n",
        "  id_Pred_Final[i] = list((np.array(id_preds[i])+np.array(id_preds2[i]))/2)"
      ]
    },
    {
      "cell_type": "code",
      "execution_count": null,
      "metadata": {
        "id": "tM6dHIAFU4Ef"
      },
      "outputs": [],
      "source": [
        "train_preds = {}\n",
        "\n",
        "#To sort Dictionaries-> https://stackoverflow.com/questions/613183/how-do-i-sort-a-dictionary-by-value\n",
        "for id, p in id_Pred_Final.items():\n",
        "  NonActiveProds = {}\n",
        "  NonActiveProds_sorted = {}\n",
        "  for i in zip(Prod_DATA_Train.columns[1:], p):\n",
        "    if i[0] not in already_active[id]:\n",
        "      NonActiveProds[i[0]]=i[1]\n",
        "  \n",
        "  #Getting Top 7 Elements\n",
        "  NonActiveProds_sorted = {k: v for k, v in sorted(NonActiveProds.items(), key=lambda item: item[1],reverse=True)[:7]}\n",
        "  preds = list(NonActiveProds_sorted.keys())\n",
        "  train_preds[id] = preds"
      ]
    },
    {
      "cell_type": "code",
      "execution_count": null,
      "metadata": {
        "id": "DlvdIbiuDExI"
      },
      "outputs": [],
      "source": [
        "test_preds = {}\n",
        "YPred_Dict = {}\n",
        "for row in Prod_DATA_Train.values:\n",
        "    id = row[0]\n",
        "    if id in train_preds.keys():\n",
        "      p = train_preds[id]\n",
        "    else:\n",
        "      #For New ID Recommending Most bought Products, Find More Deails in EDA\n",
        "      p = ['ind_aval_fin_ult1','ind_ctma_fin_ult1','ind_cder_fin_ult1','ind_dela_fin_ult1','ind_recibo_ult1','ind_nom_pens_ult1','ind_deme_fin_ult1']\n",
        "    YPred_Dict[id] = p\n",
        "    test_preds[id] = ' '.join(p)"
      ]
    },
    {
      "cell_type": "code",
      "execution_count": null,
      "metadata": {
        "id": "xrgJim6ppzp4"
      },
      "outputs": [],
      "source": [
        "test_preds = {int(k):v for k,v in test_preds.items()}"
      ]
    },
    {
      "cell_type": "markdown",
      "metadata": {
        "id": "vCO-iR5ti_do"
      },
      "source": [
        "**Saving the Predictions file as Text File**"
      ]
    },
    {
      "cell_type": "code",
      "source": [
        "test_preds = {1:[1,2,2],2:[4,4,4]}"
      ],
      "metadata": {
        "id": "8ZLhUw2BlerM"
      },
      "execution_count": null,
      "outputs": []
    },
    {
      "cell_type": "code",
      "execution_count": null,
      "metadata": {
        "id": "m2oxWUhJv0Hh"
      },
      "outputs": [],
      "source": [
        "json_object = json.dumps(test_preds, indent = 4)\n",
        "\n",
        "try:\n",
        "    geeky_file = open('FinalPredictions.txt', 'wt')\n",
        "    geeky_file.write(json_object)\n",
        "    geeky_file.close()\n",
        "  \n",
        "except:\n",
        "    print(\"Unable to write to file\")"
      ]
    },
    {
      "cell_type": "code",
      "execution_count": null,
      "metadata": {
        "id": "OnKKh6KhmiFz",
        "colab": {
          "base_uri": "https://localhost:8080/",
          "height": 17
        },
        "outputId": "22d7fdc5-b8f5-4e1e-bc83-f8e28b413dc3"
      },
      "outputs": [
        {
          "output_type": "display_data",
          "data": {
            "text/plain": [
              "<IPython.core.display.Javascript object>"
            ],
            "application/javascript": [
              "\n",
              "    async function download(id, filename, size) {\n",
              "      if (!google.colab.kernel.accessAllowed) {\n",
              "        return;\n",
              "      }\n",
              "      const div = document.createElement('div');\n",
              "      const label = document.createElement('label');\n",
              "      label.textContent = `Downloading \"${filename}\": `;\n",
              "      div.appendChild(label);\n",
              "      const progress = document.createElement('progress');\n",
              "      progress.max = size;\n",
              "      div.appendChild(progress);\n",
              "      document.body.appendChild(div);\n",
              "\n",
              "      const buffers = [];\n",
              "      let downloaded = 0;\n",
              "\n",
              "      const channel = await google.colab.kernel.comms.open(id);\n",
              "      // Send a message to notify the kernel that we're ready.\n",
              "      channel.send({})\n",
              "\n",
              "      for await (const message of channel.messages) {\n",
              "        // Send a message to notify the kernel that we're ready.\n",
              "        channel.send({})\n",
              "        if (message.buffers) {\n",
              "          for (const buffer of message.buffers) {\n",
              "            buffers.push(buffer);\n",
              "            downloaded += buffer.byteLength;\n",
              "            progress.value = downloaded;\n",
              "          }\n",
              "        }\n",
              "      }\n",
              "      const blob = new Blob(buffers, {type: 'application/binary'});\n",
              "      const a = document.createElement('a');\n",
              "      a.href = window.URL.createObjectURL(blob);\n",
              "      a.download = filename;\n",
              "      div.appendChild(a);\n",
              "      a.click();\n",
              "      div.remove();\n",
              "    }\n",
              "  "
            ]
          },
          "metadata": {}
        },
        {
          "output_type": "display_data",
          "data": {
            "text/plain": [
              "<IPython.core.display.Javascript object>"
            ],
            "application/javascript": [
              "download(\"download_23cccc43-a513-4386-a930-1891f4c1c9f8\", \"FinalPredictions.txt\", 106716225)"
            ]
          },
          "metadata": {}
        }
      ],
      "source": [
        "files.download(\"FinalPredictions.txt\")"
      ]
    },
    {
      "cell_type": "code",
      "source": [
        "\n",
        "\n"
      ],
      "metadata": {
        "id": "kdliAR6jQquP"
      },
      "execution_count": null,
      "outputs": []
    }
  ],
  "metadata": {
    "colab": {
      "provenance": []
    },
    "kernelspec": {
      "display_name": "Python 3",
      "name": "python3"
    },
    "language_info": {
      "name": "python"
    }
  },
  "nbformat": 4,
  "nbformat_minor": 0
}