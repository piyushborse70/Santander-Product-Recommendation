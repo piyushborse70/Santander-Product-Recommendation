{
  "nbformat": 4,
  "nbformat_minor": 0,
  "metadata": {
    "colab": {
      "provenance": []
    },
    "kernelspec": {
      "name": "python3",
      "display_name": "Python 3"
    },
    "language_info": {
      "name": "python"
    }
  },
  "cells": [
    {
      "cell_type": "code",
      "execution_count": null,
      "metadata": {
        "id": "M-8LSRktsbtn"
      },
      "outputs": [],
      "source": [
        "import pandas as pd\n",
        "import numpy as np\n",
        "from datetime import datetime \n",
        "from scipy.sparse import hstack,csr_matrix\n",
        "\n",
        "from sklearn.metrics import roc_auc_score\n",
        "from sklearn.linear_model import LogisticRegression\n",
        "from collections import defaultdict\n",
        "import json\n",
        "from scipy import sparse\n"
      ]
    },
    {
      "cell_type": "code",
      "source": [
        "import json\n",
        "\n",
        "def Read_Probabilities():\n",
        "  '''\n",
        "  This Function Retrieves file and Returns the Dictionary of Probabilities for each id\n",
        "  '''\n",
        "  with open('/content/drive/MyDrive/Colab Notebooks/Applied Ai/PROJECT/Case Study 1/FinalPredictions.txt') as json_file:\n",
        "    ProbDict = json.load(json_file)\n",
        "\n",
        "  ProbDict = {int(k):v for k,v in ProbDict.items()}\n",
        "  return ProbDict\n",
        "\n",
        "def recommend_Product(id):\n",
        "  '''\n",
        "  This Function Returns Recommendation of Products for Given ID\n",
        "  Prob = Read_Probabilities()\n",
        "  '''\n",
        "  ProbDict = Read_Probabilities()\n",
        "  \n",
        "  if id in ProbDict.keys():\n",
        "    return ProbDict[id]\n",
        "  else:\n",
        "    return 'ind_aval_fin_ult1 ind_ctma_fin_ult1 ind_cder_fin_ult1 ind_dela_fin_ult1 ind_recibo_ult1 ind_nom_pens_ult1 ind_deme_fin_ult1'\n"
      ],
      "metadata": {
        "id": "p7g47TCYsedY"
      },
      "execution_count": null,
      "outputs": []
    },
    {
      "cell_type": "markdown",
      "source": [
        "**DEMO**"
      ],
      "metadata": {
        "id": "_LO28wpKD-FI"
      }
    },
    {
      "cell_type": "code",
      "source": [
        "#Example: Return Product Recommendations for id 1546373,1546405 and 1546731\n",
        "print(\"Product Recommendation for id \\n1546373 is:\\n{x}, \\n1546405 is:\\n{y} and \\n1546731 is:\\n{z}\".format(x=recommend_Product(1546373),y=recommend_Product(1546405),z=recommend_Product(1546731)))"
      ],
      "metadata": {
        "colab": {
          "base_uri": "https://localhost:8080/"
        },
        "id": "GIqMqQFQGQd4",
        "outputId": "02fdb84d-6f38-4a06-c6ce-ed6d486845bd"
      },
      "execution_count": null,
      "outputs": [
        {
          "output_type": "stream",
          "name": "stdout",
          "text": [
            "Product Recommendation for id \n",
            "1546373 is:\n",
            "ind_aval_fin_ult1 ind_ctma_fin_ult1 ind_cder_fin_ult1 ind_dela_fin_ult1 ind_recibo_ult1 ind_nom_pens_ult1 ind_deme_fin_ult1, \n",
            "1546405 is:\n",
            "ind_aval_fin_ult1 ind_ctma_fin_ult1 ind_cder_fin_ult1 ind_dela_fin_ult1 ind_recibo_ult1 ind_nom_pens_ult1 ind_deme_fin_ult1 and \n",
            "1546731 is:\n",
            "ind_aval_fin_ult1 ind_ctma_fin_ult1 ind_cder_fin_ult1 ind_dela_fin_ult1 ind_recibo_ult1 ind_nom_pens_ult1 ind_deme_fin_ult1\n"
          ]
        }
      ]
    },
    {
      "cell_type": "code",
      "source": [],
      "metadata": {
        "id": "F2gnkziB_yGB"
      },
      "execution_count": null,
      "outputs": []
    }
  ]
}